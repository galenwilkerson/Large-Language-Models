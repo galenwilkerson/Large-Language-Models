{
 "cells": [
  {
   "cell_type": "markdown",
   "id": "eb02b31e",
   "metadata": {},
   "source": [
    "# Simple Sentiment Analysis using Hugging Face Pre-Trained LLM\n",
    "\n",
    "Here we will load a pre-trained model from HuggingFace, then use it to determine the sentiment (positive or negative) of a sentence."
   ]
  },
  {
   "cell_type": "code",
   "execution_count": 2,
   "id": "1e5eb15d",
   "metadata": {
    "scrolled": false
   },
   "outputs": [
    {
     "name": "stderr",
     "output_type": "stream",
     "text": [
      "No model was supplied, defaulted to distilbert-base-uncased-finetuned-sst-2-english and revision af0f99b (https://huggingface.co/distilbert-base-uncased-finetuned-sst-2-english).\n",
      "Using a pipeline without specifying a model name and revision in production is not recommended.\n"
     ]
    }
   ],
   "source": [
    "from transformers import pipeline\n",
    "\n",
    "import warnings\n",
    "warnings.filterwarnings('ignore')\n",
    "\n",
    "\n",
    "# Load pre-trained sentiment analysis model\n",
    "def load_model():\n",
    "    \"\"\"\n",
    "    Load a pre-trained sentiment analysis model from Hugging Face.\n",
    "\n",
    "    Returns:\n",
    "        model: A pre-trained sentiment analysis model.\n",
    "    \"\"\"\n",
    "    sentiment_model = pipeline(\"sentiment-analysis\")\n",
    "    return sentiment_model\n",
    "\n",
    "model = load_model()\n"
   ]
  },
  {
   "cell_type": "code",
   "execution_count": 3,
   "id": "c67ec663",
   "metadata": {},
   "outputs": [
    {
     "name": "stdout",
     "output_type": "stream",
     "text": [
      "Sentiment: {'label': 'POSITIVE', 'score': 0.999190628528595}\n"
     ]
    }
   ],
   "source": [
    "def analyze_sentiment(text, model):\n",
    "    \"\"\"\n",
    "    Analyze the sentiment of a given text using a pre-trained model.\n",
    "\n",
    "    Args:\n",
    "        text (str): The text to analyze.\n",
    "        model: The pre-trained sentiment analysis model.\n",
    "\n",
    "    Returns:\n",
    "        str: The sentiment of the text (positive/negative).\n",
    "    \"\"\"\n",
    "    result = model(text)\n",
    "    return result[0]\n",
    "\n",
    "# Example usage\n",
    "sample_text = \"I love using Hugging Face models for natural language processing!\"\n",
    "sentiment = analyze_sentiment(sample_text, model)\n",
    "print(f\"Sentiment: {sentiment}\")\n"
   ]
  },
  {
   "cell_type": "code",
   "execution_count": 5,
   "id": "4c99e0e4",
   "metadata": {},
   "outputs": [
    {
     "data": {
      "text/plain": [
       "{'label': 'NEGATIVE', 'score': 0.9992915391921997}"
      ]
     },
     "execution_count": 5,
     "metadata": {},
     "output_type": "execute_result"
    }
   ],
   "source": [
    "analyze_sentiment('this sucks', model)"
   ]
  },
  {
   "cell_type": "code",
   "execution_count": 6,
   "id": "1297cf71",
   "metadata": {},
   "outputs": [
    {
     "data": {
      "text/plain": [
       "{'label': 'POSITIVE', 'score': 0.9998176693916321}"
      ]
     },
     "execution_count": 6,
     "metadata": {},
     "output_type": "execute_result"
    }
   ],
   "source": [
    "analyze_sentiment(\"i'm rather non-plussed but happy about that\", model)"
   ]
  },
  {
   "cell_type": "code",
   "execution_count": 7,
   "id": "cc023840",
   "metadata": {},
   "outputs": [
    {
     "data": {
      "text/plain": [
       "{'label': 'NEGATIVE', 'score': 0.9932056665420532}"
      ]
     },
     "execution_count": 7,
     "metadata": {},
     "output_type": "execute_result"
    }
   ],
   "source": [
    "analyze_sentiment(\"i'm rather non-plussed about that\", model)"
   ]
  },
  {
   "cell_type": "code",
   "execution_count": 11,
   "id": "83341845",
   "metadata": {},
   "outputs": [
    {
     "data": {
      "text/plain": [
       "{'label': 'NEGATIVE', 'score': 0.9834368228912354}"
      ]
     },
     "execution_count": 11,
     "metadata": {},
     "output_type": "execute_result"
    }
   ],
   "source": [
    "# try a Shakespearian insult\n",
    "analyze_sentiment(\"What hempen home-spuns have we swaggering here..\", model)"
   ]
  },
  {
   "cell_type": "code",
   "execution_count": 12,
   "id": "f878561e",
   "metadata": {},
   "outputs": [
    {
     "data": {
      "text/plain": [
       "{'label': 'POSITIVE', 'score': 0.9974005222320557}"
      ]
     },
     "execution_count": 12,
     "metadata": {},
     "output_type": "execute_result"
    }
   ],
   "source": [
    "# try some idioms\n",
    "analyze_sentiment(\"you make me blue\", model)"
   ]
  },
  {
   "cell_type": "code",
   "execution_count": 10,
   "id": "c38d5c91",
   "metadata": {},
   "outputs": [
    {
     "data": {
      "text/plain": [
       "{'label': 'POSITIVE', 'score': 0.9852352142333984}"
      ]
     },
     "execution_count": 10,
     "metadata": {},
     "output_type": "execute_result"
    }
   ],
   "source": [
    "analyze_sentiment(\"you make me feel blue\", model)"
   ]
  },
  {
   "cell_type": "markdown",
   "id": "e98c17c7",
   "metadata": {},
   "source": [
    "**hmm, doesn't seem to work well for idiomatic meanings!**"
   ]
  },
  {
   "cell_type": "code",
   "execution_count": null,
   "id": "f6d7a5fa",
   "metadata": {},
   "outputs": [],
   "source": []
  }
 ],
 "metadata": {
  "kernelspec": {
   "display_name": "Python 3",
   "language": "python",
   "name": "python3"
  },
  "language_info": {
   "codemirror_mode": {
    "name": "ipython",
    "version": 3
   },
   "file_extension": ".py",
   "mimetype": "text/x-python",
   "name": "python",
   "nbconvert_exporter": "python",
   "pygments_lexer": "ipython3",
   "version": "3.10.9"
  }
 },
 "nbformat": 4,
 "nbformat_minor": 5
}
